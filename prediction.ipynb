{
 "cells": [
  {
   "cell_type": "markdown",
   "metadata": {},
   "source": [
    "Predict accident from image"
   ]
  },
  {
   "cell_type": "code",
   "execution_count": 10,
   "metadata": {},
   "outputs": [],
   "source": [
    "import tensorflow as tf\n",
    "import numpy as np\n",
    "from tensorflow.keras.preprocessing import image\n",
    "\n"
   ]
  },
  {
   "cell_type": "code",
   "execution_count": 11,
   "metadata": {},
   "outputs": [
    {
     "name": "stderr",
     "output_type": "stream",
     "text": [
      "WARNING:absl:Compiled the loaded model, but the compiled metrics have yet to be built. `model.compile_metrics` will be empty until you train or evaluate the model.\n"
     ]
    }
   ],
   "source": [
    "# Load the model\n",
    "model = tf.keras.models.load_model('accident_detection.h5')"
   ]
  },
  {
   "cell_type": "code",
   "execution_count": 12,
   "metadata": {},
   "outputs": [],
   "source": [
    "#define the class names\n",
    "class_names = ['bike_accident', 'bus_accident','car_accident','non_accident']"
   ]
  },
  {
   "cell_type": "code",
   "execution_count": 13,
   "metadata": {},
   "outputs": [],
   "source": [
    "#load image\n",
    "img_path = r'C:\\Users\\porje\\OneDrive\\Desktop\\internship jb infotech\\CNN\\accident detection\\data_set\\bus_accident\\bus_acc_test(6).jpg'"
   ]
  },
  {
   "cell_type": "code",
   "execution_count": 14,
   "metadata": {},
   "outputs": [],
   "source": [
    "# Load the image \n",
    "img =image.load_img(img_path, target_size=(224, 224))\n",
    "\n",
    "# Convert the image to a numpy array\n",
    "img_array = image.img_to_array(img)\n",
    "\n",
    "# Expand the shape of an array\n",
    "img_array = np.expand_dims(img_array, axis=0)  \n",
    "\n",
    "# Normalize the image\n",
    "img_array = img_array/255"
   ]
  },
  {
   "cell_type": "code",
   "execution_count": 15,
   "metadata": {},
   "outputs": [
    {
     "name": "stdout",
     "output_type": "stream",
     "text": [
      "\u001b[1m1/1\u001b[0m \u001b[32m━━━━━━━━━━━━━━━━━━━━\u001b[0m\u001b[37m\u001b[0m \u001b[1m0s\u001b[0m 390ms/step\n"
     ]
    }
   ],
   "source": [
    "# Make a prediction\n",
    "predictions = model.predict(img_array)"
   ]
  },
  {
   "cell_type": "code",
   "execution_count": 16,
   "metadata": {},
   "outputs": [
    {
     "data": {
      "text/plain": [
       "np.int64(1)"
      ]
     },
     "execution_count": 16,
     "metadata": {},
     "output_type": "execute_result"
    }
   ],
   "source": [
    "# Get the predicted class index\n",
    "class_index = np.argmax(predictions)    \n",
    "class_index"
   ]
  },
  {
   "cell_type": "code",
   "execution_count": 17,
   "metadata": {},
   "outputs": [
    {
     "name": "stdout",
     "output_type": "stream",
     "text": [
      "The image is of :  bus_accident\n"
     ]
    }
   ],
   "source": [
    "# Get the predicted class name\n",
    "predicted_class = class_names[class_index]\n",
    "print(\"The image is of : \",predicted_class)"
   ]
  },
  {
   "cell_type": "code",
   "execution_count": 1,
   "metadata": {},
   "outputs": [
    {
     "name": "stderr",
     "output_type": "stream",
     "text": [
      "WARNING:absl:Compiled the loaded model, but the compiled metrics have yet to be built. `model.compile_metrics` will be empty until you train or evaluate the model.\n"
     ]
    },
    {
     "name": "stdout",
     "output_type": "stream",
     "text": [
      "\u001b[1m1/1\u001b[0m \u001b[32m━━━━━━━━━━━━━━━━━━━━\u001b[0m\u001b[37m\u001b[0m \u001b[1m0s\u001b[0m 376ms/step\n",
      "\u001b[1m1/1\u001b[0m \u001b[32m━━━━━━━━━━━━━━━━━━━━\u001b[0m\u001b[37m\u001b[0m \u001b[1m0s\u001b[0m 41ms/step\n"
     ]
    }
   ],
   "source": [
    "import tkinter as tk\n",
    "from tkinter import filedialog\n",
    "from PIL import Image, ImageTk\n",
    "import numpy as np\n",
    "import tensorflow as tf\n",
    "\n",
    "# Load your trained model (replace with your model path)\n",
    "model = tf.keras.models.load_model(r'C:\\Users\\porje\\OneDrive\\Desktop\\internship jb infotech\\CNN\\accident detection\\accident_detection.h5')\n",
    "\n",
    "# Class names corresponding to the class indices (replace with your actual class names)\n",
    "class_names = ['bike_accident', 'bus_accident', 'car_accident', 'non_accident']\n",
    "\n",
    "def select_image():\n",
    "    global img_path\n",
    "    # Open file dialog to select an image\n",
    "    img_path = filedialog.askopenfilename(title=\"Select an Image\", filetypes=[(\"Image Files\", \"*.png;*.jpg;*.jpeg\")])\n",
    "    if img_path:\n",
    "        # Open and display the selected image\n",
    "        image = Image.open(img_path)\n",
    "        image.thumbnail((200, 200))\n",
    "        img_display = ImageTk.PhotoImage(image)\n",
    "        label_image.config(image=img_display)\n",
    "        label_image.image = img_display\n",
    "\n",
    "def predict_image():\n",
    "    # Load and preprocess the image\n",
    "    image = Image.open(img_path)\n",
    "    image = image.resize((224, 224))  # Resize to the model's input size\n",
    "    image = np.array(image) / 255.0  # Normalize the image\n",
    "    image = np.expand_dims(image, axis=0)  # Add batch dimension\n",
    "\n",
    "    # Predict the class\n",
    "    prediction = model.predict(image)\n",
    "    predicted_class_index = np.argmax(prediction)\n",
    "    predicted_class_name = class_names[predicted_class_index]\n",
    "\n",
    "    # Display the prediction result\n",
    "    label_result.config(text=f\"Prediction: {predicted_class_name}\")\n",
    "\n",
    "root = tk.Tk()\n",
    "root.title(\"Accident Detection\")\n",
    "\n",
    "# Set the initial window size to 500x500\n",
    "root.geometry(\"600x600\")\n",
    "\n",
    "# Create a label to display the selected image\n",
    "label_image = tk.Label(root)\n",
    "label_image.pack()\n",
    "\n",
    "# Create a label to display the prediction result\n",
    "label_result = tk.Label(root, text=\"Prediction: \", font=(\"Arial\", 14))\n",
    "label_result.pack()\n",
    "\n",
    "# Create a button to select an image\n",
    "button_select = tk.Button(root, text=\"Select Image\", command=select_image)\n",
    "button_select.pack(pady=10)\n",
    "\n",
    "# Create a button to predict the selected image\n",
    "button_predict = tk.Button(root, text=\"Predict\", command=predict_image)\n",
    "button_predict.pack(pady=10)\n",
    "\n",
    "root.mainloop()\n"
   ]
  },
  {
   "cell_type": "code",
   "execution_count": null,
   "metadata": {},
   "outputs": [],
   "source": []
  },
  {
   "cell_type": "code",
   "execution_count": null,
   "metadata": {},
   "outputs": [],
   "source": []
  }
 ],
 "metadata": {
  "kernelspec": {
   "display_name": "Python 3",
   "language": "python",
   "name": "python3"
  },
  "language_info": {
   "codemirror_mode": {
    "name": "ipython",
    "version": 3
   },
   "file_extension": ".py",
   "mimetype": "text/x-python",
   "name": "python",
   "nbconvert_exporter": "python",
   "pygments_lexer": "ipython3",
   "version": "3.10.0"
  }
 },
 "nbformat": 4,
 "nbformat_minor": 2
}
